{
 "cells": [
  {
   "cell_type": "markdown",
   "metadata": {},
   "source": [
    "<center> <h1> Topological Data Analysis n°2 </h1> </center>\n",
    "<center> <h2> Exploratory Analysis using Artificially made data</h2> <center>"
   ]
  },
  {
   "cell_type": "markdown",
   "metadata": {},
   "source": [
    "In this notebook, I explore novel strategies for representing session data. Sessions aren't necessarily linear (users might open multiple windows to explore various topics), and in the previous pipeline, we didn't leverage contextual information about the documents. The new pipeline aims to address these issues by treating a session as a collection of words (including themes and words from the titles). We then apply Singular Value Decomposition (SVD) to obtain a condensed representation of the sequence as a vector. Subsequently, we employ the mapper algorithm on the vector list representing the sessions."
   ]
  },
  {
   "cell_type": "markdown",
   "metadata": {},
   "source": [
    "# 1. Data"
   ]
  },
  {
   "cell_type": "markdown",
   "metadata": {},
   "source": [
    "Initially, we begin by generating data using the identical code from the preceding notebook."
   ]
  },
  {
   "cell_type": "code",
   "execution_count": 1,
   "metadata": {},
   "outputs": [
    {
     "name": "stdout",
     "output_type": "stream",
     "text": [
      "The contained themes: Droit Musique Histoire Science Technologie Art Cuisine Sport Mode Environnement Éducation Santé Voyages Philosophie Politique\n"
     ]
    },
    {
     "name": "stderr",
     "output_type": "stream",
     "text": [
      "[nltk_data] Downloading package stopwords to /home/maabid/nltk_data...\n",
      "[nltk_data]   Package stopwords is already up-to-date!\n",
      "[nltk_data] Downloading package punkt to /home/maabid/nltk_data...\n",
      "[nltk_data]   Package punkt is already up-to-date!\n"
     ]
    }
   ],
   "source": [
    "from tda_utils import *\n",
    "import json\n",
    "\n",
    "#Load the small dataset\n",
    "with open(\"toy_dataset.json\", 'r') as f:\n",
    "\n",
    "    data = json.load(f)\n",
    "\n",
    "print(\"The contained themes:\", *data.keys())"
   ]
  },
  {
   "cell_type": "code",
   "execution_count": 2,
   "metadata": {},
   "outputs": [],
   "source": [
    "SMALL_VARIABILITY = 0.2 \n",
    "\n",
    "MEDIUM_VARIABILITY = 1\n",
    "\n",
    "HIGH_VARIABILITY = 10\n",
    "\n",
    "SMALL_ALPHA = 0.1\n",
    "\n",
    "MEDIUM_ALPHA = 1\n",
    "\n",
    "HIGH_ALPHA = 100\n",
    "\n",
    "\n",
    "BEHAVIOURS_SPECIFY = [\n",
    "    (SMALL_VARIABILITY, HIGH_ALPHA, np.random.randint(1_000, 2_001), \"small\"),\n",
    "    (SMALL_VARIABILITY, MEDIUM_ALPHA, np.random.randint(1_000, 2_001), \"small\"),\n",
    "    (MEDIUM_VARIABILITY, SMALL_ALPHA, np.random.randint(1_000, 2_001), \"medium\"),\n",
    "    (HIGH_VARIABILITY, MEDIUM_ALPHA, np.random.randint(1_000, 2_001), \"long\"),\n",
    "    (HIGH_VARIABILITY, HIGH_VARIABILITY, np.random.randint(1_000, 2_001), \"long\"),\n",
    "    (MEDIUM_VARIABILITY, HIGH_ALPHA, np.random.randint(1_000, 2_001), \"medium\"),\n",
    "    (MEDIUM_VARIABILITY, MEDIUM_ALPHA, np.random.randint(1_000, 2_001), \"medium\"),\n",
    "]"
   ]
  },
  {
   "cell_type": "code",
   "execution_count": 3,
   "metadata": {},
   "outputs": [
    {
     "data": {
      "application/vnd.jupyter.widget-view+json": {
       "model_id": "ab052348ab0540fdb354977a55c1669f",
       "version_major": 2,
       "version_minor": 0
      },
      "text/plain": [
       "  0%|          | 0/7 [00:00<?, ?it/s]"
      ]
     },
     "metadata": {},
     "output_type": "display_data"
    }
   ],
   "source": [
    "sessions = generate_dataset(BEHAVIOURS_SPECIFY, data)"
   ]
  },
  {
   "cell_type": "markdown",
   "metadata": {},
   "source": [
    "Additionally, we preserve the labels of each generated session to maintain tracking capability."
   ]
  },
  {
   "cell_type": "code",
   "execution_count": 12,
   "metadata": {},
   "outputs": [],
   "source": [
    "ground_truth_labels = [np.ones(b[2])*i for i, b in enumerate(BEHAVIOURS_SPECIFY)]\n",
    "\n",
    "ground_truth_labels = np.concatenate(ground_truth_labels)"
   ]
  },
  {
   "cell_type": "markdown",
   "metadata": {},
   "source": [
    "# 2. New Pipeline"
   ]
  },
  {
   "cell_type": "markdown",
   "metadata": {},
   "source": [
    "The titles of documents harbor valuable information beyond their themes. By incorporating titles, we have the potential to enrich the context of our analysis. Additionally, I plan to utilize a compact pretrained Word2Vec algorithm for this purpose."
   ]
  },
  {
   "cell_type": "markdown",
   "metadata": {},
   "source": [
    "## 2.1 Get sessions representations"
   ]
  },
  {
   "cell_type": "markdown",
   "metadata": {},
   "source": [
    "The first step is to create a set of vectors that represent a session using a pretrained word2vec model. I chose to use the model by Fauconnier, available at [website link](https://fauconnier.github.io/). Once I have a set of vectors for each session, I consider the matrix of the session (the vectors in the set are the columns of the matrix). I compute the Singular Value Decomposition (SVD) on this matrix, and I extract the first left singular vector to represent the session."
   ]
  },
  {
   "cell_type": "code",
   "execution_count": 4,
   "metadata": {},
   "outputs": [],
   "source": [
    "from gensim.models import KeyedVectors\n",
    "\n",
    "#Load the pretrained model\n",
    "path_to_word2vec_model = 'frWac_non_lem_no_postag_no_phrase_200_cbow_cut100.bin'\n",
    "word2vec_model = KeyedVectors.load_word2vec_format(path_to_word2vec_model, binary=True)"
   ]
  },
  {
   "cell_type": "code",
   "execution_count": 5,
   "metadata": {},
   "outputs": [
    {
     "name": "stdout",
     "output_type": "stream",
     "text": [
      "Vectorize sessions...\n"
     ]
    },
    {
     "data": {
      "application/vnd.jupyter.widget-view+json": {
       "model_id": "13d9524f25b44ff0a8f8beb2af5ccedc",
       "version_major": 2,
       "version_minor": 0
      },
      "text/plain": [
       "  0%|          | 0/10815 [00:00<?, ?it/s]"
      ]
     },
     "metadata": {},
     "output_type": "display_data"
    },
    {
     "name": "stdout",
     "output_type": "stream",
     "text": [
      "Done!\n",
      "Compute SVD sessions\n"
     ]
    },
    {
     "data": {
      "application/vnd.jupyter.widget-view+json": {
       "model_id": "1861aebaa87e461592923968fe0a62c8",
       "version_major": 2,
       "version_minor": 0
      },
      "text/plain": [
       "  0%|          | 0/10815 [00:00<?, ?it/s]"
      ]
     },
     "metadata": {},
     "output_type": "display_data"
    },
    {
     "name": "stdout",
     "output_type": "stream",
     "text": [
      "Done!\n"
     ]
    }
   ],
   "source": [
    "sessions_vec = get_sessions_representation(sessions, word2vec_model)"
   ]
  },
  {
   "cell_type": "code",
   "execution_count": 6,
   "metadata": {},
   "outputs": [],
   "source": [
    "sessions_vec = np.array(sessions_vec)"
   ]
  },
  {
   "cell_type": "markdown",
   "metadata": {},
   "source": [
    "Once the SVD is computed and the representative vector for each session is obtained, the Mapper algorithm can be employed to obtain a comprehensive view of the global structure of the sessions, elucidating their distribution in the space.\n",
    "\n",
    "The Mapper algorithm, a cornerstone of Topological Data Analysis (TDA), facilitates the exploration of complex data structures by reducing their dimensionality while preserving topological characteristics. Here's a breakdown of its functionality:\n",
    "\n",
    "1. **Data Partitioning**: Initially, the data is partitioned into intervals or bins within the feature space based on a chosen measure of density or distance.\n",
    "\n",
    "2. **Atlas Construction**: For each interval, a representative point or vector is selected to summarize the data contained within that interval.\n",
    "\n",
    "3. **Interval Connection**: Subsequently, these interval representatives are connected based on their overlaps, forming a network known as the Mapper atlas.\n",
    "\n",
    "4. **Projection and Visualization**: Finally, the Mapper atlas can be projected into a lower-dimensional visualization space to enable visual interpretation of the data structure. Techniques like Multidimensional Scaling (MDS) or Principal Component Analysis (PCA) are often employed for this purpose.\n",
    "\n",
    "By applying the Mapper algorithm to the representative vectors obtained from the SVD, one gains insight into the overall organization and distribution of the session data in the feature space. This facilitates a deeper understanding of the relationships and patterns present within the dataset."
   ]
  },
  {
   "cell_type": "code",
   "execution_count": 7,
   "metadata": {},
   "outputs": [],
   "source": [
    "import kmapper as km\n",
    "from kmapper.jupyter import display\n",
    "from sklearn.manifold import Isomap\n",
    "from umap import UMAP\n",
    "from sklearn.cluster import DBSCAN"
   ]
  },
  {
   "cell_type": "markdown",
   "metadata": {},
   "source": [
    "## 2.2 Mapper Algorithme"
   ]
  },
  {
   "cell_type": "code",
   "execution_count": 31,
   "metadata": {},
   "outputs": [],
   "source": [
    "mapper  = km.KeplerMapper(verbose=0)\n",
    "\n",
    "projected_data = mapper.fit_transform(sessions_vec, projection=[Isomap(n_components=175, n_jobs=1), UMAP(n_components=2)])\n",
    "\n",
    "G = mapper.map(projected_data, sessions_vec, clusterer=DBSCAN(metric=\"cosine\"))"
   ]
  },
  {
   "cell_type": "code",
   "execution_count": null,
   "metadata": {},
   "outputs": [],
   "source": [
    "#Creat a graph to visualize how data is distributed.\n",
    "mapper.visualize(G, \n",
    "                 path_html=\"data_structure.html\", \n",
    "                 title='Data Structure',\n",
    "                 color_values=ground_truth_labels,\n",
    "                 color_function_name=[\"Ground Truth labels\"],\n",
    "                 node_color_function= np.array(['average', 'std', 'sum', 'min', 'max']))"
   ]
  },
  {
   "cell_type": "markdown",
   "metadata": {},
   "source": [
    "# 3. Discussion\n",
    "(comming soon)"
   ]
  }
 ],
 "metadata": {
  "kernelspec": {
   "display_name": "tda_env",
   "language": "python",
   "name": "python3"
  },
  "language_info": {
   "codemirror_mode": {
    "name": "ipython",
    "version": 3
   },
   "file_extension": ".py",
   "mimetype": "text/x-python",
   "name": "python",
   "nbconvert_exporter": "python",
   "pygments_lexer": "ipython3",
   "version": "3.10.12"
  }
 },
 "nbformat": 4,
 "nbformat_minor": 2
}
